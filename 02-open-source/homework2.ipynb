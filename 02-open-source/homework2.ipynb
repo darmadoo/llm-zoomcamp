{
 "cells": [
  {
   "cell_type": "code",
   "execution_count": 25,
   "id": "15bfeb11-93ef-462e-a5aa-13ff10e833b5",
   "metadata": {},
   "outputs": [
    {
     "data": {
      "text/plain": [
       "304"
      ]
     },
     "execution_count": 25,
     "metadata": {},
     "output_type": "execute_result"
    }
   ],
   "source": [
    "# Q1 ollama version is 0.3.13\n",
    "# Q2\n",
    "# 2b \n",
    "# {\"schemaVersion\":2,\"mediaType\":\"application/vnd.docker.distribution.manifest.v2+json\",\n",
    "# \"config\":{\"mediaType\":\"application/vnd.docker.container.image.v1+json\",\n",
    "# \"digest\":\"sha256:887433b89a901c156f7e6944442f3c9e57f3c55d6ed52042cbb7303aea994290\",\n",
    "# \"size\":483},\"layers\":[{\"mediaType\":\"application/vnd.ollama.image.model\",\n",
    "# \"digest\":\"sha256:c1864a5eb19305c40519da12cc543519e48a0697ecd30e15d5ac228644957d12\",\n",
    "# \"size\":1678447520},{\"mediaType\":\"application/vnd.ollama.image.license\",\n",
    "# \"digest\":\"sha256:097a36493f718248845233af1d3fefe7a303f864fae13bc31a3a9704229378ca\",\"size\":8433},\n",
    "# {\"mediaType\":\"application/vnd.ollama.image.template\",\n",
    "# \"digest\":\"sha256:109037bec39c0becc8221222ae23557559bc594290945a2c4221ab4f303b8871\",\"size\":136},\n",
    "# {\"mediaType\":\"application/vnd.ollama.image.params\",\n",
    "# \"digest\":\"sha256:22a838ceb7fb22755a3b0ae9b4eadde629d19be1f651f73efb8c6b4e2cd0eea0\",\"size\":84}]}\n",
    "\n",
    "# Q3\n",
    "# 'Sure, here is the answer to the question:\\n\\n10 * 10'\n",
    "\n",
    "\n",
    "# Q4\n",
    "# @darmadoo ➜ /workspaces/llm-zoomcamp/02-open-source/ollama_files (main) $ du -h\n",
    "# 1.6G    ./models/blobs\n",
    "# 8.0K    ./models/manifests/registry.ollama.ai/library/gemma\n",
    "# 12K     ./models/manifests/registry.ollama.ai/library\n",
    "# 16K     ./models/manifests/registry.ollama.ai\n",
    "# 20K     ./models/manifests\n",
    "# 1.6G    ./models\n",
    "# 1.6G    .\n",
    "\n",
    "# Q5\n",
    "# FROM ollama/ollama\n",
    "\n",
    "# COPY ./ollama_files /root/.ollama\n",
    "\n",
    "# Q6\n",
    "304\n"
   ]
  },
  {
   "cell_type": "code",
   "execution_count": 14,
   "id": "9b797c4d-3e88-41df-9656-9189be9def67",
   "metadata": {},
   "outputs": [],
   "source": [
    "from openai import OpenAI\n",
    "\n",
    "client = OpenAI(\n",
    "    base_url='http://localhost:11434/v1/',\n",
    "    api_key='ollama',\n",
    ")"
   ]
  },
  {
   "cell_type": "code",
   "execution_count": 22,
   "id": "6259a56e-1c9f-4f1c-ad98-6c546f04be38",
   "metadata": {},
   "outputs": [],
   "source": [
    "def llm(prompt):\n",
    "    response = client.chat.completions.create(\n",
    "        model='gemma:2b',\n",
    "        temperature=0.0,\n",
    "        messages=[{\"role\": \"user\", \"content\": prompt}]\n",
    "    )\n",
    "    \n",
    "    return response"
   ]
  },
  {
   "cell_type": "code",
   "execution_count": 17,
   "id": "9396f60f-266e-4094-8e2a-4848418bcb5f",
   "metadata": {},
   "outputs": [],
   "source": [
    "prompt = \"What's the formula for energy?\""
   ]
  },
  {
   "cell_type": "code",
   "execution_count": 20,
   "id": "b58329b0-6b83-4d85-b6cd-14ca92a283a2",
   "metadata": {},
   "outputs": [],
   "source": [
    "answer = llm(prompt)"
   ]
  },
  {
   "cell_type": "code",
   "execution_count": 23,
   "id": "0047acf6-c85f-469e-a00e-7b31d6a038a4",
   "metadata": {},
   "outputs": [],
   "source": [
    "raw = llm(prompt)"
   ]
  },
  {
   "cell_type": "code",
   "execution_count": 24,
   "id": "119b38b7-4f84-4d38-a28b-2cfa68a631b3",
   "metadata": {},
   "outputs": [
    {
     "data": {
      "text/plain": [
       "ChatCompletion(id='chatcmpl-322', choices=[Choice(finish_reason='stop', index=0, logprobs=None, message=ChatCompletionMessage(content=\"Sure, here's the formula for energy:\\n\\n**E = K + U**\\n\\nWhere:\\n\\n* **E** is the energy in joules (J)\\n* **K** is the kinetic energy in joules (J)\\n* **U** is the potential energy in joules (J)\\n\\n**Kinetic energy (K)** is the energy an object possesses when it moves or is in motion. It is calculated as half the product of an object's mass (m) and its velocity (v) squared:\\n\\n**K = 1/2 * m * v^2**\\n\\n**Potential energy (U)** is the energy an object possesses when it is in a position or has a specific configuration. It is calculated as the product of an object's mass and the gravitational constant (g) multiplied by the height or distance of the object from a reference point.\\n\\n**Gravitational potential energy (U)** is given by the formula:\\n\\n**U = mgh**\\n\\nWhere:\\n\\n* **m** is the mass of the object in kilograms (kg)\\n* **g** is the acceleration due to gravity in meters per second squared (m/s^2)\\n* **h** is the height or distance of the object in meters (m)\\n\\nThe formula for energy can be used to calculate the total energy of an object, the energy of a specific part of an object, or the change in energy of an object over time.\", refusal=None, role='assistant', audio=None, function_call=None, tool_calls=None))], created=1729481674, model='gemma:2b', object='chat.completion', service_tier=None, system_fingerprint='fp_ollama', usage=CompletionUsage(completion_tokens=304, prompt_tokens=34, total_tokens=338, completion_tokens_details=None, prompt_tokens_details=None))"
      ]
     },
     "execution_count": 24,
     "metadata": {},
     "output_type": "execute_result"
    }
   ],
   "source": [
    "raw"
   ]
  },
  {
   "cell_type": "code",
   "execution_count": null,
   "id": "c2b66e5d-2e1f-4a14-855d-ddc1bf157765",
   "metadata": {},
   "outputs": [],
   "source": []
  }
 ],
 "metadata": {
  "kernelspec": {
   "display_name": "Python 3 (ipykernel)",
   "language": "python",
   "name": "python3"
  },
  "language_info": {
   "codemirror_mode": {
    "name": "ipython",
    "version": 3
   },
   "file_extension": ".py",
   "mimetype": "text/x-python",
   "name": "python",
   "nbconvert_exporter": "python",
   "pygments_lexer": "ipython3",
   "version": "3.12.1"
  }
 },
 "nbformat": 4,
 "nbformat_minor": 5
}
