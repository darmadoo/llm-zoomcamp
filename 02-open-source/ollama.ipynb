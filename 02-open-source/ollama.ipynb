{
 "cells": [
  {
   "cell_type": "code",
   "execution_count": 1,
   "id": "68def9ff-63f7-4557-aa92-39d55773ded0",
   "metadata": {},
   "outputs": [
    {
     "name": "stdout",
     "output_type": "stream",
     "text": [
      "--2024-10-18 10:19:25--  https://raw.githubusercontent.com/alexeygrigorev/minsearch/main/minsearch.py\n",
      "Resolving raw.githubusercontent.com (raw.githubusercontent.com)... 185.199.108.133, 185.199.109.133, 185.199.110.133, ...\n",
      "Connecting to raw.githubusercontent.com (raw.githubusercontent.com)|185.199.108.133|:443... connected.\n",
      "HTTP request sent, awaiting response... 200 OK\n",
      "Length: 3832 (3.7K) [text/plain]\n",
      "Saving to: ‘minsearch.py’\n",
      "\n",
      "minsearch.py        100%[===================>]   3.74K  --.-KB/s    in 0s      \n",
      "\n",
      "2024-10-18 10:19:25 (18.6 MB/s) - ‘minsearch.py’ saved [3832/3832]\n",
      "\n"
     ]
    }
   ],
   "source": [
    "!rm -f minsearch.py\n",
    "!wget https://raw.githubusercontent.com/alexeygrigorev/minsearch/main/minsearch.py"
   ]
  },
  {
   "cell_type": "code",
   "execution_count": 2,
   "id": "d272d7f6-ff94-4691-b867-67f283256078",
   "metadata": {},
   "outputs": [
    {
     "data": {
      "text/plain": [
       "<minsearch.Index at 0x791773c98bc0>"
      ]
     },
     "execution_count": 2,
     "metadata": {},
     "output_type": "execute_result"
    }
   ],
   "source": [
    "import requests \n",
    "import minsearch\n",
    "\n",
    "docs_url = 'https://github.com/DataTalksClub/llm-zoomcamp/blob/main/01-intro/documents.json?raw=1'\n",
    "docs_response = requests.get(docs_url)\n",
    "documents_raw = docs_response.json()\n",
    "\n",
    "documents = []\n",
    "\n",
    "for course in documents_raw:\n",
    "    course_name = course['course']\n",
    "\n",
    "    for doc in course['documents']:\n",
    "        doc['course'] = course_name\n",
    "        documents.append(doc)\n",
    "\n",
    "index = minsearch.Index(\n",
    "    text_fields=[\"question\", \"text\", \"section\"],\n",
    "    keyword_fields=[\"course\"]\n",
    ")\n",
    "\n",
    "index.fit(documents)"
   ]
  },
  {
   "cell_type": "code",
   "execution_count": 3,
   "id": "e5e15002-8876-4250-b8b1-e1425b518272",
   "metadata": {},
   "outputs": [],
   "source": [
    "def search(query):\n",
    "    boost = {'question': 3.0, 'section': 0.5}\n",
    "\n",
    "    results = index.search(\n",
    "        query=query,\n",
    "        filter_dict={'course': 'data-engineering-zoomcamp'},\n",
    "        boost_dict=boost,\n",
    "        num_results=5\n",
    "    )\n",
    "\n",
    "    return results"
   ]
  },
  {
   "cell_type": "code",
   "execution_count": 8,
   "id": "a7a79487-f108-4aca-9625-d2c40d7e53a8",
   "metadata": {},
   "outputs": [],
   "source": [
    "def build_prompt(query, search_results):\n",
    "    prompt_template = \"\"\"\n",
    "You're a course teaching assistant. Answer the QUESTION based on the CONTEXT from the FAQ database.\n",
    "Use only the facts from the CONTEXT when answering the QUESTION.\n",
    "\n",
    "QUESTION: {question}\n",
    "\n",
    "CONTEXT: \n",
    "{context}\n",
    "\"\"\".strip()\n",
    "\n",
    "    context = \"\"\n",
    "    \n",
    "    for doc in search_results:\n",
    "        context = context + f\"section: {doc['section']}\\nquestion: {doc['question']}\\nanswer: {doc['text']}\\n\\n\"\n",
    "    \n",
    "    prompt = prompt_template.format(question=query, context=context).strip()\n",
    "    return prompt\n",
    "\n",
    "def llm(prompt):\n",
    "    response = client.chat.completions.create(\n",
    "        model='phi3',\n",
    "        messages=[{\"role\": \"user\", \"content\": prompt}]\n",
    "    )\n",
    "    \n",
    "    return response.choices[0].message.content"
   ]
  },
  {
   "cell_type": "code",
   "execution_count": 5,
   "id": "0d0969ef-e9e9-4f66-b818-db03f219e810",
   "metadata": {},
   "outputs": [],
   "source": [
    "def rag(query):\n",
    "    search_results = search(query)\n",
    "    prompt = build_prompt(query, search_results)\n",
    "    answer = llm(prompt)\n",
    "    return answer"
   ]
  },
  {
   "cell_type": "code",
   "execution_count": 11,
   "id": "f22dacf7-359f-42a1-ba9c-31223b68ce99",
   "metadata": {},
   "outputs": [],
   "source": [
    "from openai import OpenAI\n",
    "\n",
    "client = OpenAI(\n",
    "    base_url='http://localhost:11434/v1/',\n",
    "    api_key='ollama',\n",
    ")"
   ]
  },
  {
   "cell_type": "code",
   "execution_count": 12,
   "id": "e21665f4-71b8-40ab-8a2d-cab79bcccc34",
   "metadata": {},
   "outputs": [
    {
     "data": {
      "text/plain": [
       "\"Test Instruction:\\nDevelop and analyze an algorithm that generates all possible permutations of the input string, excluding any repetitions. Provide time complexity and space usage analysis for your solution in Big-Oh notation both iteratively using recursive backtracking techniques with memoization as well as via a non-recursive method employing Heap's Algorithm to optimize recursion overhead while avoiding stack overflow or excessive temporary storage allocation beyond system capacities. Ensure that no duplicate permutations are generated, even if the input string contains characters multiple times for instance 'aabb'. After establishing both recursive and iterative approaches with their efficiency analysis based on your established notions of time complexity (T) in Big-Oh notation as O(n!) where n is the length of the longest possible sequence without duplication. Space Complexity should reflect maximum memory consumption during worst case scenarios, represented using Sigma notation within appropriate constraints for iterative and recursive algorithms.\\n\\nFor instance:\\nGiven 'aabb', after deduplicated permutations algorithm execution with recursion depth bounded by system limits (considered safe limit of 10^5 characters), the space complexity can be approximated to O(n! * max_recursion_depths) due to stack allocation for each recursive call, where 'max_recursion_depth' is limited and does not exceed this depth restriction. For a non-repetitive iterative approach adhering strictly within available system memory (~10^6 bytes), it’s essential that the maximum array/heap size never surpasses 2n elements to maintain feasibly low space complexity, despite string length n potentially far exceeding this limit. This can be encapsulated as follows:\\nSpace Complexity Iterative using Heap'sprocessor(a[], result_array): O(2 * max(|s|)), where |s| represents the input array of characters and 'result_array', not surpassing 2n in size, holds all unique arrangements.\\nGiven an n-character string containing repeated elements represented by Set S={'a','b'}, your result should be formatted strictly as: {String permutation 1},{String permutation 2} and so on to a maximum of system capacity limits without any recursive or memoization strategies that would risk inadvertent repetition generation.\\n\\nFor the sake of demonstrating understanding, provide pseudocode for your solutions along with an appropriate test string like 'aabb' ensuring no character is permuted more than its frequency within this non-repetitive set without any form of memoization and using explicit Big-Oh notation in textual descriptions. Validate that the performance metrics align correctly based on the theoretical analysis provided after implementing your solutions, taking into account system memory constraints as discussed above. \\n\""
      ]
     },
     "execution_count": 12,
     "metadata": {},
     "output_type": "execute_result"
    }
   ],
   "source": [
    "llm(\"write this is as a test\")"
   ]
  },
  {
   "cell_type": "code",
   "execution_count": 13,
   "id": "10685dcc-bc66-47b8-a81a-dad9eac8a77b",
   "metadata": {},
   "outputs": [
    {
     "name": "stdout",
     "output_type": "stream",
     "text": [
      "Test Instruction:\n",
      "Develop and analyze an algorithm that generates all possible permutations of the input string, excluding any repetitions. Provide time complexity and space usage analysis for your solution in Big-Oh notation both iteratively using recursive backtracking techniques with memoization as well as via a non-recursive method employing Heap's Algorithm to optimize recursion overhead while avoiding stack overflow or excessive temporary storage allocation beyond system capacities. Ensure that no duplicate permutations are generated, even if the input string contains characters multiple times for instance 'aabb'. After establishing both recursive and iterative approaches with their efficiency analysis based on your established notions of time complexity (T) in Big-Oh notation as O(n!) where n is the length of the longest possible sequence without duplication. Space Complexity should reflect maximum memory consumption during worst case scenarios, represented using Sigma notation within appropriate constraints for iterative and recursive algorithms.\n",
      "\n",
      "For instance:\n",
      "Given 'aabb', after deduplicated permutations algorithm execution with recursion depth bounded by system limits (considered safe limit of 10^5 characters), the space complexity can be approximated to O(n! * max_recursion_depths) due to stack allocation for each recursive call, where 'max_recursion_depth' is limited and does not exceed this depth restriction. For a non-repetitive iterative approach adhering strictly within available system memory (~10^6 bytes), it’s essential that the maximum array/heap size never surpasses 2n elements to maintain feasibly low space complexity, despite string length n potentially far exceeding this limit. This can be encapsulated as follows:\n",
      "Space Complexity Iterative using Heap'sprocessor(a[], result_array): O(2 * max(|s|)), where |s| represents the input array of characters and 'result_array', not surpassing 2n in size, holds all unique arrangements.\n",
      "Given an n-character string containing repeated elements represented by Set S={'a','b'}, your result should be formatted strictly as: {String permutation 1},{String permutation 2} and so on to a maximum of system capacity limits without any recursive or memoization strategies that would risk inadvertent repetition generation.\n",
      "\n",
      "For the sake of demonstrating understanding, provide pseudocode for your solutions along with an appropriate test string like 'aabb' ensuring no character is permuted more than its frequency within this non-repetitive set without any form of memoization and using explicit Big-Oh notation in textual descriptions. Validate that the performance metrics align correctly based on the theoretical analysis provided after implementing your solutions, taking into account system memory constraints as discussed above. \n",
      "\n"
     ]
    }
   ],
   "source": [
    "print(_)"
   ]
  },
  {
   "cell_type": "code",
   "execution_count": null,
   "id": "11df8693-bd2e-4ad9-8743-667b9cd3feb1",
   "metadata": {},
   "outputs": [],
   "source": []
  }
 ],
 "metadata": {
  "kernelspec": {
   "display_name": "Python 3 (ipykernel)",
   "language": "python",
   "name": "python3"
  },
  "language_info": {
   "codemirror_mode": {
    "name": "ipython",
    "version": 3
   },
   "file_extension": ".py",
   "mimetype": "text/x-python",
   "name": "python",
   "nbconvert_exporter": "python",
   "pygments_lexer": "ipython3",
   "version": "3.12.1"
  }
 },
 "nbformat": 4,
 "nbformat_minor": 5
}
