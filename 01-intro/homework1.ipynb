{
 "cells": [
  {
   "cell_type": "code",
   "execution_count": 64,
   "id": "1049991f-908a-405e-ba62-40b8bbd3f519",
   "metadata": {},
   "outputs": [],
   "source": [
    "# Q1 42f05b9372a9a4a470db3b52817899b99a76ee73\n",
    "# Q2 index \n",
    "# Q3 84.050095\n",
    "# Q4 How do I copy files from a different folder into docker container’s working directory?\n",
    "# Q5 1636 / 1462\n",
    "# Q6 355 / 322\n",
    "# Bonus 'To execute a command in a running Docker container, you first need to find the container ID using the command `docker ps`, and then you can execute a command in the specific container using the following syntax:\\n\\n```\\ndocker exec -it <container-id> bash\\n```\\n\\nThis will allow you to start an interactive bash session in the running container.'\n",
    "# Bonus\n",
    "# 150*1000 = 150000 inputs\n",
    "# 250*1000 = 250000 outputs\n",
    "# input cost = 150000 * 0.005 / 1000 = 0.75\n",
    "# output cost = 250000 * 0.015 / 1000 = 3.75\n",
    "# total cost  = 4.5"
   ]
  },
  {
   "cell_type": "code",
   "execution_count": 18,
   "id": "53a56926-a583-4af4-9453-eadb297e9560",
   "metadata": {},
   "outputs": [],
   "source": [
    "import requests \n",
    "\n",
    "docs_url = 'https://github.com/DataTalksClub/llm-zoomcamp/blob/main/01-intro/documents.json?raw=1'\n",
    "docs_response = requests.get(docs_url)\n",
    "documents_raw = docs_response.json()\n",
    "\n",
    "documents = []\n",
    "\n",
    "for course in documents_raw:\n",
    "    course_name = course['course']\n",
    "\n",
    "    for doc in course['documents']:\n",
    "        doc['course'] = course_name\n",
    "        documents.append(doc)"
   ]
  },
  {
   "cell_type": "code",
   "execution_count": 19,
   "id": "2f15d988-ba9f-4b8a-9722-a726af911b31",
   "metadata": {},
   "outputs": [],
   "source": [
    "from openai import OpenAI\n",
    "client = OpenAI()"
   ]
  },
  {
   "cell_type": "code",
   "execution_count": 68,
   "id": "16cf7e6d-d006-4a2f-b772-0d1103128b6f",
   "metadata": {},
   "outputs": [],
   "source": [
    "def build_prompt(query, search_results):\n",
    "    prompt_template = \"\"\"\n",
    "You're a course teaching assistant. Answer the QUESTION based on the CONTEXT from the FAQ database.\n",
    "Use only the facts from the CONTEXT when answering the QUESTION.\n",
    "\n",
    "QUESTION: {question}\n",
    "\n",
    "CONTEXT:\n",
    "{context}\n",
    "\"\"\".strip()\n",
    "\n",
    "    context = \"\"\n",
    "    \n",
    "    for doc in search_results:\n",
    "        context = context + f\"section: {doc['section']}\\nquestion: {doc['question']}\\nanswer: {doc['text']}\\n\\n\"\n",
    "    \n",
    "    prompt = prompt_template.format(question=query, context=context).strip()\n",
    "\n",
    "    return prompt"
   ]
  },
  {
   "cell_type": "code",
   "execution_count": 21,
   "id": "903a6a9f-bf97-458d-8d49-b01108f57e5e",
   "metadata": {},
   "outputs": [],
   "source": [
    "def llm(prompt):\n",
    "    response = client.chat.completions.create(\n",
    "        model='gpt-4o-mini',\n",
    "        messages=[{\"role\": \"user\", \"content\": prompt}]\n",
    "    )\n",
    "\n",
    "    return response.choices[0].message.content"
   ]
  },
  {
   "cell_type": "code",
   "execution_count": 22,
   "id": "d0f6edc3-436a-4b3e-9111-94fab822d5c4",
   "metadata": {},
   "outputs": [],
   "source": [
    "from tqdm.auto import tqdm\n",
    "from elasticsearch import Elasticsearch\n",
    "\n",
    "es_client = Elasticsearch(\"http://localhost:9200\")"
   ]
  },
  {
   "cell_type": "code",
   "execution_count": 59,
   "id": "0eb85642-7fe5-4880-82ff-9b77998a3415",
   "metadata": {},
   "outputs": [],
   "source": [
    "def elastic_search(query):\n",
    "    search_query = {\n",
    "        \"size\": 3,\n",
    "        \"query\": {\n",
    "            \"bool\": {\n",
    "                \"must\": {\n",
    "                    \"multi_match\": {\n",
    "                        \"query\": query,\n",
    "                        \"fields\": [\"question^4\", \"text\"],\n",
    "                        \"type\": \"best_fields\"\n",
    "                    }\n",
    "                },\n",
    "                \"filter\": {\n",
    "                    \"term\": {\n",
    "                        \"course\": \"machine-learning-zoomcamp\"\n",
    "                    }\n",
    "                }\n",
    "            }\n",
    "        }\n",
    "    }\n",
    "\n",
    "    response = es_client.search(index=index_name, body=search_query)\n",
    "    \n",
    "    results_docs = []\n",
    "    \n",
    "    for hit in response['hits']['hits']:\n",
    "        results_docs.append(hit['_source'])     \n",
    "    \n",
    "    return results_docs"
   ]
  },
  {
   "cell_type": "code",
   "execution_count": 24,
   "id": "f2bc432d-cb18-471c-bd86-c0af0cfc36d2",
   "metadata": {},
   "outputs": [
    {
     "data": {
      "text/plain": [
       "ObjectApiResponse({'acknowledged': True, 'shards_acknowledged': True, 'index': 'homework-1'})"
      ]
     },
     "execution_count": 24,
     "metadata": {},
     "output_type": "execute_result"
    }
   ],
   "source": [
    "index_settings = {\n",
    "    \"settings\": {\n",
    "        \"number_of_shards\": 1,\n",
    "        \"number_of_replicas\": 0\n",
    "    },\n",
    "    \"mappings\": {\n",
    "        \"properties\": {\n",
    "            \"text\": {\"type\": \"text\"},\n",
    "            \"section\": {\"type\": \"text\"},\n",
    "            \"question\": {\"type\": \"text\"},\n",
    "            \"course\": {\"type\": \"keyword\"} \n",
    "        }\n",
    "    }\n",
    "}\n",
    "\n",
    "index_name = \"homework-1\"\n",
    "\n",
    "es_client.indices.create(index=index_name, body=index_settings)"
   ]
  },
  {
   "cell_type": "code",
   "execution_count": 25,
   "id": "c840c35a-ffc7-4da1-a80e-8d2ad325951f",
   "metadata": {},
   "outputs": [
    {
     "name": "stderr",
     "output_type": "stream",
     "text": [
      "100%|██████████████████████████████████████████████████████████████████████████████████████████████████████████████| 948/948 [00:04<00:00, 230.88it/s]\n"
     ]
    }
   ],
   "source": [
    "for doc in tqdm(documents):\n",
    "    es_client.index(index=index_name, document=doc)"
   ]
  },
  {
   "cell_type": "code",
   "execution_count": 93,
   "id": "467a9ea6-3b30-4362-a516-f3802281b628",
   "metadata": {},
   "outputs": [],
   "source": [
    "query = \"How do I execute a command in a running docker container?\""
   ]
  },
  {
   "cell_type": "code",
   "execution_count": 94,
   "id": "272360bf-42f2-4c22-8e0e-cd6cd9a071aa",
   "metadata": {},
   "outputs": [],
   "source": [
    "search_results = elastic_search(query)"
   ]
  },
  {
   "cell_type": "code",
   "execution_count": 95,
   "id": "2cf2d093-776e-485a-af5a-aebab66d1879",
   "metadata": {},
   "outputs": [],
   "source": [
    "prompt_reponse = build_prompt(query, search_results)"
   ]
  },
  {
   "cell_type": "code",
   "execution_count": 96,
   "id": "5c36732a-3f35-4a8e-b46f-40cb6d21b2fe",
   "metadata": {},
   "outputs": [
    {
     "data": {
      "text/plain": [
       "1636"
      ]
     },
     "execution_count": 96,
     "metadata": {},
     "output_type": "execute_result"
    }
   ],
   "source": [
    "len(prompt_reponse)"
   ]
  },
  {
   "cell_type": "code",
   "execution_count": 97,
   "id": "6840c82b-0eeb-473b-880c-da61bfbc6a87",
   "metadata": {},
   "outputs": [],
   "source": [
    "import tiktoken"
   ]
  },
  {
   "cell_type": "code",
   "execution_count": 98,
   "id": "5f798ad7-bbfe-4a7e-b565-2239833dad13",
   "metadata": {},
   "outputs": [
    {
     "data": {
      "text/plain": [
       "<Encoding 'o200k_base'>"
      ]
     },
     "execution_count": 98,
     "metadata": {},
     "output_type": "execute_result"
    }
   ],
   "source": [
    "encoding = tiktoken.encoding_for_model(\"gpt-4o\")\n",
    "encoding"
   ]
  },
  {
   "cell_type": "code",
   "execution_count": 99,
   "id": "3c148a99-4739-49dc-a1fb-e7959adcaada",
   "metadata": {},
   "outputs": [
    {
     "data": {
      "text/plain": [
       "355"
      ]
     },
     "execution_count": 99,
     "metadata": {},
     "output_type": "execute_result"
    }
   ],
   "source": [
    "len(encoding.encode(prompt_reponse))"
   ]
  },
  {
   "cell_type": "code",
   "execution_count": 100,
   "id": "fd5c1dce-67bb-4838-8b9a-64acd8f05bd0",
   "metadata": {},
   "outputs": [
    {
     "data": {
      "text/plain": [
       "b\"You're\""
      ]
     },
     "execution_count": 100,
     "metadata": {},
     "output_type": "execute_result"
    }
   ],
   "source": [
    "encoding.decode_single_token_bytes(63842)"
   ]
  },
  {
   "cell_type": "code",
   "execution_count": 101,
   "id": "fdb2c30a-3cfd-40be-a7d6-81dd9c8024ac",
   "metadata": {},
   "outputs": [
    {
     "data": {
      "text/plain": [
       "'To execute a command in a running Docker container, you first need to find the container ID using the command `docker ps`, and then you can execute a command in the specific container using the following syntax:\\n\\n```\\ndocker exec -it <container-id> bash\\n```\\n\\nThis will allow you to start an interactive bash session in the running container.'"
      ]
     },
     "execution_count": 101,
     "metadata": {},
     "output_type": "execute_result"
    }
   ],
   "source": [
    "llm(prompt_reponse)"
   ]
  },
  {
   "cell_type": "code",
   "execution_count": null,
   "id": "1c7d4f36-3a65-46d2-b498-167f15bb5dc8",
   "metadata": {},
   "outputs": [],
   "source": []
  }
 ],
 "metadata": {
  "kernelspec": {
   "display_name": "Python 3 (ipykernel)",
   "language": "python",
   "name": "python3"
  },
  "language_info": {
   "codemirror_mode": {
    "name": "ipython",
    "version": 3
   },
   "file_extension": ".py",
   "mimetype": "text/x-python",
   "name": "python",
   "nbconvert_exporter": "python",
   "pygments_lexer": "ipython3",
   "version": "3.12.1"
  }
 },
 "nbformat": 4,
 "nbformat_minor": 5
}
